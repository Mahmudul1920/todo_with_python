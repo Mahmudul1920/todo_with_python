{
  "nbformat": 4,
  "nbformat_minor": 0,
  "metadata": {
    "colab": {
      "name": "Untitled0.ipynb",
      "provenance": [],
      "authorship_tag": "ABX9TyOryAZCaF8pmZN1Ud4L6eGG",
      "include_colab_link": true
    },
    "kernelspec": {
      "name": "python3",
      "display_name": "Python 3"
    }
  },
  "cells": [
    {
      "cell_type": "markdown",
      "metadata": {
        "id": "view-in-github",
        "colab_type": "text"
      },
      "source": [
        "<a href=\"https://colab.research.google.com/github/Mahmudul1920/todo_with_python/blob/main/Untitled0.ipynb\" target=\"_parent\"><img src=\"https://colab.research.google.com/assets/colab-badge.svg\" alt=\"Open In Colab\"/></a>"
      ]
    },
    {
      "cell_type": "code",
      "metadata": {
        "colab": {
          "base_uri": "https://localhost:8080/"
        },
        "id": "erDVXL2rjEmP",
        "outputId": "674096a1-7d9a-40fd-e108-8155035be271"
      },
      "source": [
        "course_name = []\r\n",
        "course_code = []\r\n",
        "def add_course():\r\n",
        "    course_nm=input(\"Enter course name: \")\r\n",
        "    course_name.append(course_nm)\r\n",
        "    course_cd = input(\"Enter course code: \")\r\n",
        "    course_code.append(course_cd)\r\n",
        "def show_course():\r\n",
        "  \r\n",
        "    if len(course_name)==0:\r\n",
        "        print(\"Please input something\")\r\n",
        "    else:\r\n",
        "        for a in course_name:\r\n",
        "            print(\"course name:\",a)\r\n",
        "            for b in course_code:\r\n",
        "                print(\"course code:\",b)\r\n",
        "def remove_course():\r\n",
        "    if len(course_name)==0:\r\n",
        "        print(\"Please input something\")\r\n",
        "    else:\r\n",
        "        rmv_cr_nm = input(\"Enter course name: \")\r\n",
        "        course_name.remove(rmv_cr_nm)\r\n",
        "        rmv_cr_cd = input(\"Enter course code: \")\r\n",
        "        course_code.remove(rmv_cr_cd)\r\n",
        "def users_page():\r\n",
        "    a=True\r\n",
        "    while a:\r\n",
        "        print(\"0. for exit\")\r\n",
        "        print(\"1.add course\")\r\n",
        "        print(\"2.remove course\")\r\n",
        "        print(\"3.show all course\")\r\n",
        "        option = int(input(\"choose your option \"))\r\n",
        "        if option == 1:\r\n",
        "            add_course()\r\n",
        "        elif option == 2:\r\n",
        "            remove_course()\r\n",
        "        elif option == 3:\r\n",
        "            show_course()\r\n",
        "        elif option == 0:\r\n",
        "            print(\"Thnaks You\")\r\n",
        "            a=False\r\n",
        "        else:\r\n",
        "            print(\"please input correctly\")\r\n",
        "\r\n",
        "users_page()"
      ],
      "execution_count": null,
      "outputs": [
        {
          "output_type": "stream",
          "text": [
            "0. for exit\n",
            "1.add course\n",
            "2.remove course\n",
            "3.show all course\n",
            "0. for exit\n",
            "1.add course\n",
            "2.remove course\n",
            "3.show all course\n",
            "course name: AI Lab\n",
            "course code: CSE-413\n",
            "0. for exit\n",
            "1.add course\n",
            "2.remove course\n",
            "3.show all course\n",
            "0. for exit\n",
            "1.add course\n",
            "2.remove course\n",
            "3.show all course\n",
            "0. for exit\n",
            "1.add course\n",
            "2.remove course\n",
            "3.show all course\n",
            "course name: AI Lab\n",
            "course code: CSE-413\n",
            "0. for exit\n",
            "1.add course\n",
            "2.remove course\n",
            "3.show all course\n"
          ],
          "name": "stdout"
        }
      ]
    }
  ]
}